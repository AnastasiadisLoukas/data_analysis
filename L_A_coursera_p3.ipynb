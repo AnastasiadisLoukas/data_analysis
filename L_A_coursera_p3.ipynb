{
 "cells": [
  {
   "cell_type": "markdown",
   "id": "c0070e9d",
   "metadata": {},
   "source": [
    "#### L_A_coursera_p3"
   ]
  },
  {
   "cell_type": "markdown",
   "id": "32431475",
   "metadata": {},
   "source": [
    "#### inserted a cell below pressing the b button to write my introduction \n",
    "This is my introduction :) ta daaaa"
   ]
  },
  {
   "cell_type": "markdown",
   "id": "f1bc106c",
   "metadata": {},
   "source": [
    "ordered list of data science languages\n",
    "1. Python\n",
    "2. R\n",
    "3. Java\n",
    "\n"
   ]
  },
  {
   "cell_type": "markdown",
   "id": "40315d11",
   "metadata": {},
   "source": [
    "ordered list of data science libraries\n",
    "\n",
    "1. Pandas\n",
    "2. NumPy\n",
    "3. Pytorch\n",
    "4. Scikit learn\n",
    "5. Tensorflow\n",
    "6. Seaborn\n",
    "7. Matplotlib"
   ]
  },
  {
   "cell_type": "markdown",
   "id": "462022e6",
   "metadata": {},
   "source": [
    "markdown cell for table with data science tools\n",
    "\n",
    "| Jupyter | Spyder | Rstudio |\n",
    "|---------|--------|---------|\n",
    "|Microsoft Power BI | Tableau | IBM Cognos Analytics |"
   ]
  },
  {
   "cell_type": "markdown",
   "id": "bbbaeeb0",
   "metadata": {},
   "source": [
    "#### introducing arithmetic expression examples in a list\n",
    "- 3*4 == 12\n",
    "- 3**2 == 9\n"
   ]
  },
  {
   "cell_type": "code",
   "execution_count": 6,
   "id": "f60cd38e",
   "metadata": {},
   "outputs": [
    {
     "name": "stdout",
     "output_type": "stream",
     "text": [
      "number1 : 3\n",
      "number2 : 5\n",
      "multiplication 3*5 =15\n",
      "addition 3+5 =8\n"
     ]
    }
   ],
   "source": [
    "# creating codde to multiply and add numbers \n",
    "number1 = int(input(\"number1 : \"))\n",
    "number2 = int(input(\"number2 : \"))\n",
    "print(f\"multiplication {number1}*{number2} ={number1 * number2}\")\n",
    "print(f\"addition {number1}+{number2} ={number1 + number2}\")"
   ]
  },
  {
   "cell_type": "code",
   "execution_count": 8,
   "id": "3d1ab13a",
   "metadata": {},
   "outputs": [
    {
     "name": "stdout",
     "output_type": "stream",
     "text": [
      "minutes :65\n",
      "hours : 1.0833333333333333\n"
     ]
    }
   ],
   "source": [
    "#creating code that converts minutes to hours \n",
    "minutes = int(input(\"minutes :\"))\n",
    "print(\"hours :\",minutes/60)"
   ]
  },
  {
   "cell_type": "markdown",
   "id": "f37d6fee",
   "metadata": {},
   "source": [
    "### markdown cell that lists objectives with unordered list . a day at the super market\n",
    "- coffee\n",
    "- yoghurt\n",
    "- chocolate\n",
    "- eggs\n",
    "- flour\n",
    "- milk"
   ]
  },
  {
   "cell_type": "markdown",
   "id": "ba8a9763",
   "metadata": {},
   "source": [
    "#### author\n",
    "[linkedIn profile of Loukas_Anastasiadis](https://www.linkedin.com/in/loukas-anastasiadis-5771b0170/)"
   ]
  },
  {
   "cell_type": "code",
   "execution_count": null,
   "id": "abd053db",
   "metadata": {},
   "outputs": [],
   "source": []
  }
 ],
 "metadata": {
  "kernelspec": {
   "display_name": "Python 3 (ipykernel)",
   "language": "python",
   "name": "python3"
  },
  "language_info": {
   "codemirror_mode": {
    "name": "ipython",
    "version": 3
   },
   "file_extension": ".py",
   "mimetype": "text/x-python",
   "name": "python",
   "nbconvert_exporter": "python",
   "pygments_lexer": "ipython3",
   "version": "3.10.9"
  }
 },
 "nbformat": 4,
 "nbformat_minor": 5
}
