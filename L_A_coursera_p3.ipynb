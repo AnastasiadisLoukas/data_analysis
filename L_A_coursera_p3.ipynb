{
 "cells": [
  {
   "cell_type": "markdown",
   "id": "c0070e9d",
   "metadata": {},
   "source": [
    "# L_A_coursera_p3"
   ]
  },
  {
   "cell_type": "markdown",
   "id": "32431475",
   "metadata": {},
   "source": [
    "#### inserted a cell below pressing the b button to write my introduction \n",
    "This is my introduction :) ta daaaa"
   ]
  },
  {
   "cell_type": "markdown",
   "id": "f1bc106c",
   "metadata": {},
   "source": [
    "ordered list of data science languages\n",
    "1. Python\n",
    "2. R\n",
    "3. Java\n",
    "\n"
   ]
  },
  {
   "cell_type": "markdown",
   "id": "40315d11",
   "metadata": {},
   "source": [
    "ordered list of data science libraries\n",
    "\n",
    "1. Pandas\n",
    "2. NumPy\n",
    "3. Pytorch\n",
    "4. Scikit learn\n",
    "5. Tensorflow\n",
    "6. Seaborn\n",
    "7. Matplotlib"
   ]
  },
  {
   "cell_type": "markdown",
   "id": "462022e6",
   "metadata": {},
   "source": [
    "markdown cell for table with data science tools\n",
    "\n",
    "| Jupyter | Spyder | Rstudio |\n",
    "|---------|--------|---------|\n",
    "|Microsoft Power BI | Tableau | IBM Cognos Analytics |"
   ]
  },
  {
   "cell_type": "markdown",
   "id": "bbbaeeb0",
   "metadata": {},
   "source": [
    "#### introducing arithmetic expression examples in a list\n",
    "- 3*4 == 12\n",
    "- 3**2 == 9\n"
   ]
  },
  {
   "cell_type": "code",
   "execution_count": 1,
   "id": "f60cd38e",
   "metadata": {},
   "outputs": [
    {
     "data": {
      "text/plain": [
       "17"
      ]
     },
     "execution_count": 1,
     "metadata": {},
     "output_type": "execute_result"
    }
   ],
   "source": [
    "# creating codde to multiply and add numbers \n",
    "(3*5)+2"
   ]
  },
  {
   "cell_type": "code",
   "execution_count": 2,
   "id": "3d1ab13a",
   "metadata": {},
   "outputs": [
    {
     "data": {
      "text/plain": [
       "3.3333333333333335"
      ]
     },
     "execution_count": 2,
     "metadata": {},
     "output_type": "execute_result"
    }
   ],
   "source": [
    "#creating code that converts minutes to hours .let's say 200 minutes.\n",
    "200/60 "
   ]
  },
  {
   "cell_type": "markdown",
   "id": "f37d6fee",
   "metadata": {},
   "source": [
    "### introductory cell . a day at the super market\n"
   ]
  },
  {
   "cell_type": "markdown",
   "id": "e9f4a0fd",
   "metadata": {},
   "source": [
    "**Objectives**\n",
    "- coffee\n",
    "- yoghurt\n",
    "- chocolate\n",
    "- eggs\n",
    "- flour\n",
    "- milk"
   ]
  },
  {
   "cell_type": "markdown",
   "id": "ba8a9763",
   "metadata": {},
   "source": [
    "## author\n",
    "[Loukas_Anastasiadis](https://www.linkedin.com/in/loukas-anastasiadis-5771b0170/)"
   ]
  },
  {
   "cell_type": "code",
   "execution_count": null,
   "id": "abd053db",
   "metadata": {},
   "outputs": [],
   "source": []
  }
 ],
 "metadata": {
  "kernelspec": {
   "display_name": "Python 3 (ipykernel)",
   "language": "python",
   "name": "python3"
  },
  "language_info": {
   "codemirror_mode": {
    "name": "ipython",
    "version": 3
   },
   "file_extension": ".py",
   "mimetype": "text/x-python",
   "name": "python",
   "nbconvert_exporter": "python",
   "pygments_lexer": "ipython3",
   "version": "3.10.9"
  }
 },
 "nbformat": 4,
 "nbformat_minor": 5
}
